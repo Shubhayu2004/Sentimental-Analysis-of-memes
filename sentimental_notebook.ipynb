{
 "cells": [
  {
   "cell_type": "markdown",
   "metadata": {},
   "source": [
    "# Import Required Libraries\n",
    "Import necessary libraries, including TensorFlow, Keras, NumPy, Pandas, and others."
   ]
  },
  {
   "cell_type": "code",
   "execution_count": 2,
   "metadata": {},
   "outputs": [],
   "source": [
    "\n",
    "import tensorflow as tf\n",
    "from tensorflow.keras.layers import (Input, Dense, Dropout, Flatten, Embedding, LSTM, Bidirectional, concatenate, \n",
    "                                     RandomFlip, RandomRotation, Rescaling, Conv2D, GlobalAveragePooling2D, TextVectorization)\n",
    "from tensorflow.keras.models import Model\n",
    "from tensorflow.keras.optimizers import Adam\n",
    "from tensorflow.keras.callbacks import ReduceLROnPlateau, EarlyStopping, ModelCheckpoint\n",
    "from sklearn.metrics import classification_report, confusion_matrix, mean_absolute_error\n",
    "import matplotlib.pyplot as plt\n",
    "import seaborn as sns\n",
    "from sklearn.model_selection import train_test_split\n",
    "import numpy as np\n",
    "import pandas as pd\n",
    "from tensorflow.keras.preprocessing import image\n",
    "import re\n",
    "import string\n",
    "import gc\n"
   ]
  },
  {
   "cell_type": "markdown",
   "metadata": {},
   "source": [
    "# Load and Inspect Data\n",
    "Load the dataset and inspect the first few rows to understand its structure."
   ]
  },
  {
   "cell_type": "code",
   "execution_count": 68,
   "metadata": {},
   "outputs": [
    {
     "name": "stdout",
     "output_type": "stream",
     "text": [
      "['hilarious' 'not_funny' 'very_funny' 'funny']\n",
      "['general' 'not_sarcastic' 'twisted_meaning' 'very_twisted']\n",
      "['not_offensive' 'very_offensive' 'slight' 'hateful_offensive']\n",
      "['not_motivational' 'motivational']\n",
      "['very_positive' 'positive' 'neutral' 'negative' 'very_negative']\n"
     ]
    }
   ],
   "source": [
    "df = pd.read_csv(\"../Tensorquest/memotion_dataset_7k/labels.csv\")\n",
    "df.head()\n",
    "print(df['humour'].unique())\n",
    "print(df['sarcasm'].unique())\n",
    "print(df['offensive'].unique())\n",
    "print(df['motivational'].unique())\n",
    "print(df['overall_sentiment'].unique())"
   ]
  },
  {
   "cell_type": "code",
   "execution_count": 70,
   "metadata": {},
   "outputs": [
    {
     "name": "stdout",
     "output_type": "stream",
     "text": [
      "humour          int64\n",
      "sarcasm         int64\n",
      "offensive       int64\n",
      "motivational    int64\n",
      "dtype: object\n",
      "   humour  sarcasm  offensive  motivational\n",
      "0       3        1          0             0\n",
      "1       0        1          0             1\n",
      "2       2        0          0             0\n",
      "3       2        2          2             1\n",
      "4       3        3          2             0\n"
     ]
    },
    {
     "name": "stderr",
     "output_type": "stream",
     "text": [
      "C:\\Users\\shubh\\AppData\\Local\\Temp\\ipykernel_27080\\2069428415.py:5: FutureWarning: Downcasting behavior in `replace` is deprecated and will be removed in a future version. To retain the old behavior, explicitly call `result.infer_objects(copy=False)`. To opt-in to the future behavior, set `pd.set_option('future.no_silent_downcasting', True)`\n",
      "  df = df.replace({\n"
     ]
    }
   ],
   "source": [
    "df = pd.read_csv(\"../Tensorquest/memotion_dataset_7k/labels.csv\")\n",
    "df.head()\n",
    "\n",
    "df.dropna(inplace=True)\n",
    "df = df.replace({\n",
    "    'humour': {'not_funny': 0, 'funny': 1, 'very_funny': 2, 'hilarious': 3},\n",
    "    'sarcasm': {'not_sarcastic': 0, 'general': 1, 'twisted_meaning': 2, 'very_twisted': 3},\n",
    "    'offensive': {'not_offensive': 0, 'slight': 1, 'very_offensive': 2 , 'hateful_offensive':3},\n",
    "    'motivational': {'not_motivational': 0, 'motivational': 1},\n",
    "    'overall_sentiment': {'very_negative': 0, 'negative': 1, 'neutral': 2, 'positive': 3, 'very_positive': 4}\n",
    "\n",
    "    \n",
    "})\n",
    "\n",
    "print(df[['humour', 'sarcasm', 'offensive', 'motivational']].dtypes)\n",
    "print(df[['humour', 'sarcasm', 'offensive', 'motivational']].head())"
   ]
  },
  {
   "cell_type": "code",
   "execution_count": 72,
   "metadata": {},
   "outputs": [
    {
     "data": {
      "text/html": [
       "<div>\n",
       "<style scoped>\n",
       "    .dataframe tbody tr th:only-of-type {\n",
       "        vertical-align: middle;\n",
       "    }\n",
       "\n",
       "    .dataframe tbody tr th {\n",
       "        vertical-align: top;\n",
       "    }\n",
       "\n",
       "    .dataframe thead th {\n",
       "        text-align: right;\n",
       "    }\n",
       "</style>\n",
       "<table border=\"1\" class=\"dataframe\">\n",
       "  <thead>\n",
       "    <tr style=\"text-align: right;\">\n",
       "      <th></th>\n",
       "      <th>Unnamed: 0</th>\n",
       "      <th>image_name</th>\n",
       "      <th>text_ocr</th>\n",
       "      <th>text_corrected</th>\n",
       "      <th>humour</th>\n",
       "      <th>sarcasm</th>\n",
       "      <th>offensive</th>\n",
       "      <th>motivational</th>\n",
       "      <th>overall_sentiment</th>\n",
       "    </tr>\n",
       "  </thead>\n",
       "  <tbody>\n",
       "    <tr>\n",
       "      <th>0</th>\n",
       "      <td>0</td>\n",
       "      <td>image_1.jpg</td>\n",
       "      <td>LOOK THERE MY FRIEND LIGHTYEAR NOW ALL SOHALIK...</td>\n",
       "      <td>LOOK THERE MY FRIEND LIGHTYEAR NOW ALL SOHALIK...</td>\n",
       "      <td>3</td>\n",
       "      <td>1</td>\n",
       "      <td>0</td>\n",
       "      <td>0</td>\n",
       "      <td>4</td>\n",
       "    </tr>\n",
       "    <tr>\n",
       "      <th>1</th>\n",
       "      <td>1</td>\n",
       "      <td>image_2.jpeg</td>\n",
       "      <td>The best of #10 YearChallenge! Completed in le...</td>\n",
       "      <td>The best of #10 YearChallenge! Completed in le...</td>\n",
       "      <td>0</td>\n",
       "      <td>1</td>\n",
       "      <td>0</td>\n",
       "      <td>1</td>\n",
       "      <td>4</td>\n",
       "    </tr>\n",
       "    <tr>\n",
       "      <th>2</th>\n",
       "      <td>2</td>\n",
       "      <td>image_3.JPG</td>\n",
       "      <td>Sam Thorne @Strippin ( Follow Follow Saw every...</td>\n",
       "      <td>Sam Thorne @Strippin ( Follow Follow Saw every...</td>\n",
       "      <td>2</td>\n",
       "      <td>0</td>\n",
       "      <td>0</td>\n",
       "      <td>0</td>\n",
       "      <td>3</td>\n",
       "    </tr>\n",
       "    <tr>\n",
       "      <th>3</th>\n",
       "      <td>3</td>\n",
       "      <td>image_4.png</td>\n",
       "      <td>10 Year Challenge - Sweet Dee Edition</td>\n",
       "      <td>10 Year Challenge - Sweet Dee Edition</td>\n",
       "      <td>2</td>\n",
       "      <td>2</td>\n",
       "      <td>2</td>\n",
       "      <td>1</td>\n",
       "      <td>3</td>\n",
       "    </tr>\n",
       "    <tr>\n",
       "      <th>4</th>\n",
       "      <td>4</td>\n",
       "      <td>image_5.png</td>\n",
       "      <td>10 YEAR CHALLENGE WITH NO FILTER 47 Hilarious ...</td>\n",
       "      <td>10 YEAR CHALLENGE WITH NO FILTER 47 Hilarious ...</td>\n",
       "      <td>3</td>\n",
       "      <td>3</td>\n",
       "      <td>2</td>\n",
       "      <td>0</td>\n",
       "      <td>2</td>\n",
       "    </tr>\n",
       "  </tbody>\n",
       "</table>\n",
       "</div>"
      ],
      "text/plain": [
       "   Unnamed: 0    image_name  \\\n",
       "0           0   image_1.jpg   \n",
       "1           1  image_2.jpeg   \n",
       "2           2   image_3.JPG   \n",
       "3           3   image_4.png   \n",
       "4           4   image_5.png   \n",
       "\n",
       "                                            text_ocr  \\\n",
       "0  LOOK THERE MY FRIEND LIGHTYEAR NOW ALL SOHALIK...   \n",
       "1  The best of #10 YearChallenge! Completed in le...   \n",
       "2  Sam Thorne @Strippin ( Follow Follow Saw every...   \n",
       "3              10 Year Challenge - Sweet Dee Edition   \n",
       "4  10 YEAR CHALLENGE WITH NO FILTER 47 Hilarious ...   \n",
       "\n",
       "                                      text_corrected  humour  sarcasm  \\\n",
       "0  LOOK THERE MY FRIEND LIGHTYEAR NOW ALL SOHALIK...       3        1   \n",
       "1  The best of #10 YearChallenge! Completed in le...       0        1   \n",
       "2  Sam Thorne @Strippin ( Follow Follow Saw every...       2        0   \n",
       "3              10 Year Challenge - Sweet Dee Edition       2        2   \n",
       "4  10 YEAR CHALLENGE WITH NO FILTER 47 Hilarious ...       3        3   \n",
       "\n",
       "   offensive  motivational  overall_sentiment  \n",
       "0          0             0                  4  \n",
       "1          0             1                  4  \n",
       "2          0             0                  3  \n",
       "3          2             1                  3  \n",
       "4          2             0                  2  "
      ]
     },
     "execution_count": 72,
     "metadata": {},
     "output_type": "execute_result"
    }
   ],
   "source": [
    "df.head()"
   ]
  },
  {
   "cell_type": "markdown",
   "metadata": {},
   "source": [
    "# Handle Missing Values\n",
    "Check for missing values and drop or fill them as necessary."
   ]
  },
  {
   "cell_type": "code",
   "execution_count": 74,
   "metadata": {},
   "outputs": [
    {
     "name": "stdout",
     "output_type": "stream",
     "text": [
      "Missing values for each column is ,\n",
      "  Unnamed: 0           0\n",
      "image_name           0\n",
      "text_ocr             0\n",
      "text_corrected       0\n",
      "humour               0\n",
      "sarcasm              0\n",
      "offensive            0\n",
      "motivational         0\n",
      "overall_sentiment    0\n",
      "dtype: int64\n"
     ]
    }
   ],
   "source": [
    "missing_values = df.isnull().sum()\n",
    "print(\"Missing values for each column is ,\\n \", missing_values)"
   ]
  },
  {
   "cell_type": "markdown",
   "metadata": {},
   "source": [
    "# Image Preprocessing\n",
    "Load images, resize them, and normalize pixel values."
   ]
  },
  {
   "cell_type": "code",
   "execution_count": 32,
   "metadata": {},
   "outputs": [
    {
     "name": "stderr",
     "output_type": "stream",
     "text": [
      "C:\\Users\\shubh\\anaconda3\\envs\\tfenv\\lib\\site-packages\\PIL\\Image.py:1043: UserWarning: Palette images with Transparency expressed in bytes should be converted to RGBA images\n",
      "  warnings.warn(\n"
     ]
    }
   ],
   "source": [
    "width, height = 100, 100\n",
    "X = []\n",
    "for i in range(df.shape[0]):\n",
    "    try:\n",
    "        path = '../Tensorquest/memotion_dataset_7k/images/' + df.iloc[i]['image_name']\n",
    "        img = image.load_img(path, target_size=(width, height, 3) )\n",
    "        img = image.img_to_array(img) / 255.0\n",
    "        X.append(img)\n",
    "    except (FileNotFoundError, OSError):\n",
    "        continue\n",
    "X = np.array(X)"
   ]
  },
  {
   "cell_type": "markdown",
   "metadata": {},
   "source": [
    "Preparing target variables  "
   ]
  },
  {
   "cell_type": "code",
   "execution_count": 76,
   "metadata": {},
   "outputs": [],
   "source": [
    "\n",
    "Y = df[['humour', 'sarcasm', 'offensive', 'motivational']].iloc[:len(X)]"
   ]
  },
  {
   "cell_type": "code",
   "execution_count": 78,
   "metadata": {},
   "outputs": [],
   "source": [
    "# --- 5. Standardize Text ---\n",
    "def standardize_text(data):\n",
    "    data = data.apply(lambda x: x.lower())\n",
    "    data = data.apply(lambda x: re.sub(r'\\d+', '', x))\n",
    "    data = data.apply(lambda x: re.sub(r'.com', '', x, flags=re.MULTILINE))\n",
    "    data = data.apply(lambda x: x.translate(str.maketrans('', '', string.punctuation)))\n",
    "    return data\n",
    "df['text_corrected'] = standardize_text(df['text_corrected'].astype(str)).iloc[:len(X)]"
   ]
  },
  {
   "cell_type": "code",
   "execution_count": 80,
   "metadata": {},
   "outputs": [],
   "source": [
    "# --- 6. Split Dataset (images, text, targets together to avoid misalignment) ---\n",
    "X_train, X_test, y_train, y_test, X_text_train, X_text_test = train_test_split(\n",
    "    X, Y, df['text_corrected'].values, test_size=0.2, random_state=30)\n",
    "\n",
    "y_train = np.array(y_train).astype('float32')\n",
    "y_test = np.array(y_test).astype('float32')"
   ]
  },
  {
   "cell_type": "code",
   "execution_count": 82,
   "metadata": {},
   "outputs": [],
   "source": [
    "# --- 7. Text Vectorization ---\n",
    "vocab_size = 100000\n",
    "sequence_length = 50\n",
    "vectorize_layer = TextVectorization(\n",
    "    max_tokens=vocab_size,\n",
    "    output_mode='int',\n",
    "    output_sequence_length=sequence_length,\n",
    "    standardize=\"lower_and_strip_punctuation\"\n",
    ")\n",
    "vectorize_layer.adapt(df['text_corrected'].values)\n",
    "X_text_train = vectorize_layer(X_text_train)\n",
    "X_text_test = vectorize_layer(X_text_test)\n"
   ]
  },
  {
   "cell_type": "code",
   "execution_count": 84,
   "metadata": {},
   "outputs": [],
   "source": [
    "X_train = np.array(X_train).astype('float32')\n",
    "X_test = np.array(X_test).astype('float32')\n",
    "X_text_train = np.array(X_text_train).astype('int32')\n",
    "X_text_test = np.array(X_text_test).astype('int32')\n",
    "y_train = np.array(y_train).astype('float32')\n",
    "y_test = np.array(y_test).astype('float32')"
   ]
  },
  {
   "cell_type": "code",
   "execution_count": 86,
   "metadata": {},
   "outputs": [],
   "source": [
    "\n",
    "# --- 8. Data Augmentation ---\n",
    "data_augmentation = tf.keras.Sequential([\n",
    "    RandomFlip('horizontal'),\n",
    "    RandomRotation(0.2)\n",
    "])\n",
    "\n",
    "# what this does is randomly flips the models and randomly roatets the images so as to prevent overfitting , it is roattwed by 20% meaning 72 degrees\n"
   ]
  },
  {
   "cell_type": "code",
   "execution_count": 88,
   "metadata": {},
   "outputs": [],
   "source": [
    "# --- 9. Build Base Image Model ---\n",
    "base_model_1 = tf.keras.applications.ResNet50(input_shape=(100, 100, 3), include_top=False, weights='imagenet')\n",
    "base_model_2 = tf.keras.applications.VGG16(input_shape=(100, 100, 3), include_top=False, weights='imagenet')\n",
    "base_model_1.trainable = False\n",
    "base_model_2.trainable = False\n",
    "\n",
    "image_input = Input(shape=(100, 100, 3), name='image_input')\n",
    "x = data_augmentation(image_input)\n",
    "x = tf.keras.applications.resnet50.preprocess_input(x)\n",
    "x1 = base_model_1(x, training=False)\n",
    "x2 = base_model_2(x, training=False)\n",
    "x1 = Conv2D(2048, kernel_size=2, padding='valid')(x1)\n",
    "x1 = Dense(512)(x1)\n",
    "x2 = Dense(512)(x2)\n",
    "x = concatenate([x1, x2])\n",
    "x = GlobalAveragePooling2D()(x)\n",
    "x = Dropout(0.2, name='dropout_layer')(x)\n",
    "image_model = Model(inputs=image_input, outputs=x)"
   ]
  },
  {
   "cell_type": "code",
   "execution_count": 90,
   "metadata": {},
   "outputs": [],
   "source": [
    "# --- 10. Build Text Model ---\n",
    "text_input = Input(shape=(sequence_length,), dtype=tf.int32, name='text')\n",
    "embedding_dim = 32\n",
    "y = Embedding(vocab_size, embedding_dim, name=\"embedding\")(text_input)\n",
    "y = Dropout(0.5)(y)\n",
    "y = Bidirectional(LSTM(256, activation='relu', return_sequences=True))(y)\n",
    "y = Bidirectional(LSTM(128, activation='relu'))(y)\n",
    "y = Dense(1024, activation='relu')(y)\n",
    "y = Dropout(0.5)(y)\n",
    "text_model = Model(inputs=text_input, outputs=y)"
   ]
  },
  {
   "cell_type": "code",
   "execution_count": 92,
   "metadata": {},
   "outputs": [],
   "source": [
    "# --- 11. Combine Models ---\n",
    "combined = concatenate([image_model.output, text_model.output])\n",
    "combined = Dense(512, activation='relu')(combined)\n",
    "combined = Dropout(0.5)(combined)\n",
    "output = Dense(4, activation='linear', name=\"semantic_output\")(combined)\n",
    "combined_model = Model(inputs=[image_model.input, text_model.input], outputs=output)\n",
    "combined_model.compile(optimizer='adam', loss='mse', metrics=['mae'])"
   ]
  },
  {
   "cell_type": "code",
   "execution_count": 94,
   "metadata": {},
   "outputs": [
    {
     "name": "stdout",
     "output_type": "stream",
     "text": [
      "<class 'numpy.ndarray'> float32\n",
      "<class 'numpy.ndarray'> int32\n",
      "<class 'numpy.ndarray'> float32\n"
     ]
    }
   ],
   "source": [
    "print(type(X_train), X_train.dtype)\n",
    "print(type(X_text_train), X_text_train.dtype)\n",
    "print(type(y_train), y_train.dtype)"
   ]
  },
  {
   "cell_type": "code",
   "execution_count": 96,
   "metadata": {},
   "outputs": [
    {
     "name": "stdout",
     "output_type": "stream",
     "text": [
      "Epoch 1/5\n",
      "\u001b[1m342/342\u001b[0m \u001b[32m━━━━━━━━━━━━━━━━━━━━\u001b[0m\u001b[37m\u001b[0m \u001b[1m229s\u001b[0m 626ms/step - loss: 22.1504 - mae: 2.2160 - val_loss: 0.7057 - val_mae: 0.6706 - learning_rate: 0.0010\n",
      "Epoch 2/5\n",
      "\u001b[1m342/342\u001b[0m \u001b[32m━━━━━━━━━━━━━━━━━━━━\u001b[0m\u001b[37m\u001b[0m \u001b[1m191s\u001b[0m 559ms/step - loss: 0.8931 - mae: 0.7339 - val_loss: 0.7055 - val_mae: 0.6645 - learning_rate: 0.0010\n",
      "Epoch 3/5\n",
      "\u001b[1m342/342\u001b[0m \u001b[32m━━━━━━━━━━━━━━━━━━━━\u001b[0m\u001b[37m\u001b[0m \u001b[1m201s\u001b[0m 589ms/step - loss: 0.8726 - mae: 0.7297 - val_loss: 0.7058 - val_mae: 0.6721 - learning_rate: 0.0010\n",
      "Epoch 4/5\n",
      "\u001b[1m342/342\u001b[0m \u001b[32m━━━━━━━━━━━━━━━━━━━━\u001b[0m\u001b[37m\u001b[0m \u001b[1m193s\u001b[0m 566ms/step - loss: 0.8163 - mae: 0.7119 - val_loss: 0.7003 - val_mae: 0.6718 - learning_rate: 0.0010\n",
      "Epoch 5/5\n",
      "\u001b[1m342/342\u001b[0m \u001b[32m━━━━━━━━━━━━━━━━━━━━\u001b[0m\u001b[37m\u001b[0m \u001b[1m187s\u001b[0m 546ms/step - loss: 0.7635 - mae: 0.6937 - val_loss: 0.6697 - val_mae: 0.6530 - learning_rate: 0.0010\n"
     ]
    }
   ],
   "source": [
    "# --- 12. Train Model ---\n",
    "gc.collect()\n",
    "tf.keras.backend.clear_session()\n",
    "history = combined_model.fit(\n",
    "    {'image_input': X_train, 'text': X_text_train},\n",
    "    y_train,\n",
    "    validation_data=({'image_input': X_test, 'text': X_text_test}, y_test),\n",
    "    epochs=5,\n",
    "    batch_size=16,\n",
    "    callbacks=[\n",
    "        ReduceLROnPlateau(monitor='val_loss', factor=0.2, patience=3, min_lr=0.001),\n",
    "        EarlyStopping(monitor='val_loss', patience=5, restore_best_weights=True),\n",
    "        ModelCheckpoint(filepath='best_model.keras', monitor='val_loss', save_best_only=True)\n",
    "    ]\n",
    ")\n"
   ]
  },
  {
   "cell_type": "code",
   "execution_count": 98,
   "metadata": {},
   "outputs": [
    {
     "data": {
      "image/png": "[encoded data removed]",
      "text/plain": [
       "<Figure size 1200x600 with 1 Axes>"
      ]
     },
     "metadata": {},
     "output_type": "display_data"
    },
    {
     "data": {
      "image/png": "[encoded data removed]",
      "text/plain": [
       "<Figure size 1200x600 with 1 Axes>"
      ]
     },
     "metadata": {},
     "output_type": "display_data"
    }
   ],
   "source": [
    "# --- 13. Plot Training History ---\n",
    "plt.figure(figsize=(12, 6))\n",
    "plt.plot(history.history['loss'], label='Train Loss')\n",
    "plt.plot(history.history['val_loss'], label='Validation Loss')\n",
    "plt.title('Model Loss')\n",
    "plt.xlabel('Epoch')\n",
    "plt.ylabel('Loss')\n",
    "plt.legend(loc='upper right')\n",
    "plt.show()\n",
    "\n",
    "plt.figure(figsize=(12, 6))\n",
    "plt.plot(history.history['mae'], label='Train MAE')\n",
    "plt.plot(history.history['val_mae'], label='Validation MAE')\n",
    "plt.title('Model Mean Absolute Error')\n",
    "plt.xlabel('Epoch')\n",
    "plt.ylabel('MAE')\n",
    "plt.legend(loc='upper right')\n",
    "plt.show()\n"
   ]
  },
  {
   "cell_type": "code",
   "execution_count": 100,
   "metadata": {},
   "outputs": [
    {
     "name": "stdout",
     "output_type": "stream",
     "text": [
      "\u001b[1m43/43\u001b[0m \u001b[32m━━━━━━━━━━━━━━━━━━━━\u001b[0m\u001b[37m\u001b[0m \u001b[1m25s\u001b[0m 557ms/step\n"
     ]
    },
    {
     "ename": "IndexError",
     "evalue": "only integers, slices (`:`), ellipsis (`...`), numpy.newaxis (`None`) and integer or boolean arrays are valid indices",
     "output_type": "error",
     "traceback": [
      "\u001b[1;31m---------------------------------------------------------------------------\u001b[0m",
      "\u001b[1;31mIndexError\u001b[0m                                Traceback (most recent call last)",
      "Cell \u001b[1;32mIn[100], line 3\u001b[0m\n\u001b[0;32m      1\u001b[0m \u001b[38;5;66;03m# --- 14. Evaluate Model ---\u001b[39;00m\n\u001b[0;32m      2\u001b[0m combined_predictions \u001b[38;5;241m=\u001b[39m combined_model\u001b[38;5;241m.\u001b[39mpredict({\u001b[38;5;124m'\u001b[39m\u001b[38;5;124mimage_input\u001b[39m\u001b[38;5;124m'\u001b[39m: X_test, \u001b[38;5;124m'\u001b[39m\u001b[38;5;124mtext\u001b[39m\u001b[38;5;124m'\u001b[39m: X_text_test})\n\u001b[1;32m----> 3\u001b[0m mae_humor_combined \u001b[38;5;241m=\u001b[39m mean_absolute_error(\u001b[43my_test\u001b[49m\u001b[43m[\u001b[49m\u001b[38;5;124;43m'\u001b[39;49m\u001b[38;5;124;43mhumour\u001b[39;49m\u001b[38;5;124;43m'\u001b[39;49m\u001b[43m]\u001b[49m, combined_predictions[:, \u001b[38;5;241m0\u001b[39m])\n\u001b[0;32m      4\u001b[0m mae_sarcasm_combined \u001b[38;5;241m=\u001b[39m mean_absolute_error(y_test[\u001b[38;5;124m'\u001b[39m\u001b[38;5;124msarcasm\u001b[39m\u001b[38;5;124m'\u001b[39m], combined_predictions[:, \u001b[38;5;241m1\u001b[39m])\n\u001b[0;32m      5\u001b[0m mae_offense_combined \u001b[38;5;241m=\u001b[39m mean_absolute_error(y_test[\u001b[38;5;124m'\u001b[39m\u001b[38;5;124moffensive\u001b[39m\u001b[38;5;124m'\u001b[39m], combined_predictions[:, \u001b[38;5;241m2\u001b[39m])\n",
      "\u001b[1;31mIndexError\u001b[0m: only integers, slices (`:`), ellipsis (`...`), numpy.newaxis (`None`) and integer or boolean arrays are valid indices"
     ]
    }
   ],
   "source": [
    "# --- 14. Evaluate Model ---\n",
    "combined_predictions = combined_model.predict({'image_input': X_test, 'text': X_text_test})\n",
    "mae_humor_combined = mean_absolute_error(y_test['humour'], combined_predictions[:, 0])\n",
    "mae_sarcasm_combined = mean_absolute_error(y_test['sarcasm'], combined_predictions[:, 1])\n",
    "mae_offense_combined = mean_absolute_error(y_test['offensive'], combined_predictions[:, 2])\n",
    "mae_motivation_combined = mean_absolute_error(y_test['motivational'], combined_predictions[:, 3])\n",
    "print(f\"MAE for Humor (Combined): {mae_humor_combined}\")\n",
    "print(f\"MAE for Sarcasm (Combined): {mae_sarcasm_combined}\")\n",
    "print(f\"MAE for Offense (Combined): {mae_offense_combined}\")\n",
    "print(f\"MAE for Motivation (Combined): {mae_motivation_combined}\")\n"
   ]
  },
  {
   "cell_type": "code",
   "execution_count": null,
   "metadata": {},
   "outputs": [],
   "source": [
    "\n",
    "# Classification reports and confusion matrices\n",
    "for i, label in enumerate(['humour', 'sarcasm', 'offensive', 'motivational']):\n",
    "    print(f\"Classification Report for {label.capitalize()}:\")\n",
    "    print(classification_report(y_test[label], np.round(combined_predictions[:, i])))\n",
    "    conf_matrix = confusion_matrix(y_test[label], np.round(combined_predictions[:, i]))\n",
    "    plt.figure(figsize=(8, 6))\n",
    "    sns.heatmap(conf_matrix, annot=True, fmt='d', cmap='Blues')\n",
    "    plt.title(f'Confusion Matrix for {label.capitalize()}')\n",
    "    plt.xlabel('Predicted')\n",
    "    plt.ylabel('Actual')\n",
    "    plt.show()"
   ]
  }
 ],
 "metadata": {
  "kernelspec": {
   "display_name": "Python [conda env:tfenv]",
   "language": "python",
   "name": "conda-env-tfenv-py"
  },
  "language_info": {
   "codemirror_mode": {
    "name": "ipython",
    "version": 3
   },
   "file_extension": ".py",
   "mimetype": "text/x-python",
   "name": "python",
   "nbconvert_exporter": "python",
   "pygments_lexer": "ipython3",
   "version": "3.9.21"
  }
 },
 "nbformat": 4,
 "nbformat_minor": 4
}
